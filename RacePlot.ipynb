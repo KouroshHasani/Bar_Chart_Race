{
 "cells": [
  {
   "cell_type": "code",
   "execution_count": 2,
   "id": "a159ba1f-fd6a-4b78-99fc-2efa01518e35",
   "metadata": {},
   "outputs": [],
   "source": [
    "import bar_chart_race as bcr\n",
    "import pandas as pd\n",
    "from src.data import DATA_DIR"
   ]
  },
  {
   "cell_type": "code",
   "execution_count": 3,
   "id": "46d2d98c-cdb5-4cdf-b8e0-ae0acb0c1cde",
   "metadata": {},
   "outputs": [],
   "source": [
    "def read_csv_file(path, header=0, index_col=None):\n",
    "    if index_col is None:\n",
    "        return pd.read_csv(path, header=header)\n",
    "\n",
    "    else:\n",
    "        return pd.read_csv(path, index_col=index_col, header=header)"
   ]
  },
  {
   "cell_type": "code",
   "execution_count": 4,
   "id": "02d1ccdb-85c0-42e7-968e-6229d556ae9a",
   "metadata": {},
   "outputs": [],
   "source": [
    "def race_plot(data_path, number_of_bars, fig_kwargs, video_len):\n",
    "    df = read_csv_file(data_path, header=1, index_col=0)\n",
    "    color = list(read_csv_file(data_path, header=0, index_col=0).columns)\n",
    "    \n",
    "    video_len = min(300, 120 * video_len * 1000 / len(df))\n",
    "    video_len = max(150, video_len)\n",
    "    \n",
    "    bcr.bar_chart_race(\n",
    "        df=df,\n",
    "        img_label_folder=DATA_DIR / 'Pics',\n",
    "        filename='Bar_Race_2.mp4',\n",
    "        orientation='h',\n",
    "        sort='desc',\n",
    "        n_bars=number_of_bars,\n",
    "        fixed_order=False,\n",
    "        fixed_max=False,\n",
    "        steps_per_period=8,\n",
    "        interpolate_period=False,\n",
    "        bar_size=.95,\n",
    "        period_label={\n",
    "            'size': 27\n",
    "        },\n",
    "        bar_label_font={\n",
    "            'size':27\n",
    "        },\n",
    "        tick_label_font={\n",
    "            'size':27\n",
    "        },\n",
    "        period_length=video_len,\n",
    "        colors=color,\n",
    "        scale='linear',\n",
    "        writer=None,\n",
    "        fig=None,\n",
    "        bar_kwargs={'alpha': .7},\n",
    "        filter_column_colors=True,\n",
    "        fig_kwargs = fig_kwargs\n",
    "        )"
   ]
  },
  {
   "cell_type": "code",
   "execution_count": null,
   "id": "7d987794-05a7-495d-ac01-3b9ff1f8b6ff",
   "metadata": {},
   "outputs": [],
   "source": [
    "race_plot(\n",
    "    data_path = DATA_DIR / 'Race.csv',\n",
    "    number_of_bars = 15,\n",
    "    fig_kwargs = {\n",
    "        'dpi':80,\n",
    "        'figsize':(27, 17),\n",
    "    },\n",
    "    video_len=0.5\n",
    "         )"
   ]
  },
  {
   "cell_type": "code",
   "execution_count": null,
   "id": "2c069088-5ffe-4f12-9122-7eae5a625d02",
   "metadata": {},
   "outputs": [],
   "source": []
  },
  {
   "cell_type": "code",
   "execution_count": null,
   "id": "798df1cf-13f0-44ba-9caf-03202f6b67a8",
   "metadata": {},
   "outputs": [],
   "source": []
  }
 ],
 "metadata": {
  "kernelspec": {
   "display_name": "Python 3 (ipykernel)",
   "language": "python",
   "name": "python3"
  },
  "language_info": {
   "codemirror_mode": {
    "name": "ipython",
    "version": 3
   },
   "file_extension": ".py",
   "mimetype": "text/x-python",
   "name": "python",
   "nbconvert_exporter": "python",
   "pygments_lexer": "ipython3",
   "version": "3.8.13"
  }
 },
 "nbformat": 4,
 "nbformat_minor": 5
}
