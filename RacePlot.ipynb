{
 "cells": [
  {
   "cell_type": "code",
   "execution_count": 14,
   "id": "a159ba1f-fd6a-4b78-99fc-2efa01518e35",
   "metadata": {},
   "outputs": [],
   "source": [
    "import bar_chart_race as bcr\n",
    "import pandas as pd\n",
    "from src.data import DATA_DIR\n",
    "from PIL import Image\n",
    "import shutil\n",
    "import os"
   ]
  },
  {
   "cell_type": "code",
   "execution_count": 15,
   "id": "46d2d98c-cdb5-4cdf-b8e0-ae0acb0c1cde",
   "metadata": {},
   "outputs": [],
   "source": [
    "def read_csv_file(path, header=0, index_col=None):\n",
    "    if index_col is None:\n",
    "        return pd.read_csv(path, header=header)\n",
    "\n",
    "    else:\n",
    "        return pd.read_csv(path, index_col=index_col, header=header)\n",
    "\n",
    "def change_pic_size(input_directory, output_directory, size):\n",
    "    shutil.rmtree(output_directory)\n",
    "    os.mkdir(output_directory)\n",
    "    for filename in os.listdir(input_directory):\n",
    "        if filename.endswith(\".png\"):\n",
    "            image = Image.open(input_directory / filename)\n",
    "            width, height = image.size\n",
    "            max_dim = max(width, height)\n",
    "            image = image.resize((int(width * size / max_dim), int(height * size / max_dim)),Image.ANTIALIAS)\n",
    "            image.save(fp = output_directory / filename)\n",
    "\n",
    "        else:\n",
    "            continue"
   ]
  },
  {
   "cell_type": "code",
   "execution_count": 22,
   "id": "02d1ccdb-85c0-42e7-968e-6229d556ae9a",
   "metadata": {},
   "outputs": [],
   "source": [
    "def race_plot(data_path, output_name, number_of_bars, fig_kwargs, video_len, resized=None):\n",
    "    df = read_csv_file(data_path, index_col=0).iloc[5:, :]\n",
    "    # color = list(read_csv_file(data_path, header=0, index_col=0).columns)\n",
    "    \n",
    "    if resized:\n",
    "        change_pic_size(\n",
    "            input_directory = DATA_DIR / 'Pics',\n",
    "            output_directory= DATA_DIR / 'Resized_Pic',\n",
    "            size = 300\n",
    "        )\n",
    "    \n",
    "    video_len = min(300, 120 * video_len * 1000 / len(df))\n",
    "    # video_len = max(150, video_len)\n",
    "    \n",
    "    bcr.bar_chart_race(\n",
    "        df=df,\n",
    "        img_label_folder=DATA_DIR / 'Resized_Pic',\n",
    "        filename=str(DATA_DIR / 'Outputs' / f'{output_name}.mp4'),\n",
    "        orientation='h',\n",
    "        sort='desc',\n",
    "        n_bars=number_of_bars,\n",
    "        fixed_order=False,\n",
    "        fixed_max=False,\n",
    "        steps_per_period=15,\n",
    "        interpolate_period=False,\n",
    "        bar_size=.95,\n",
    "        period_label={\n",
    "            'size': 27\n",
    "        },\n",
    "        bar_label_font={\n",
    "            'size':27\n",
    "        },\n",
    "        tick_label_font={\n",
    "            'size':27\n",
    "        },\n",
    "        period_length=video_len,\n",
    "        scale='linear',\n",
    "        writer=None,\n",
    "        fig=None,\n",
    "        bar_kwargs={'alpha': .7},\n",
    "        filter_column_colors=True,\n",
    "        fig_kwargs = fig_kwargs\n",
    "        )"
   ]
  },
  {
   "cell_type": "code",
   "execution_count": 24,
   "id": "7d987794-05a7-495d-ac01-3b9ff1f8b6ff",
   "metadata": {
    "tags": []
   },
   "outputs": [],
   "source": [
    "race_plot(\n",
    "    data_path = DATA_DIR / 'Dataset.csv',\n",
    "    output_name = 'Video_1',\n",
    "    resized = True,\n",
    "    number_of_bars = 15,\n",
    "    fig_kwargs = {\n",
    "        'dpi':80,\n",
    "        'figsize':(27, 17),\n",
    "    },\n",
    "    video_len=0.9\n",
    "         )"
   ]
  },
  {
   "cell_type": "code",
   "execution_count": null,
   "id": "82607c91-ac39-4f79-b93a-af7a8faf4103",
   "metadata": {},
   "outputs": [],
   "source": []
  }
 ],
 "metadata": {
  "kernelspec": {
   "display_name": "Python 3 (ipykernel)",
   "language": "python",
   "name": "python3"
  },
  "language_info": {
   "codemirror_mode": {
    "name": "ipython",
    "version": 3
   },
   "file_extension": ".py",
   "mimetype": "text/x-python",
   "name": "python",
   "nbconvert_exporter": "python",
   "pygments_lexer": "ipython3",
   "version": "3.8.13"
  }
 },
 "nbformat": 4,
 "nbformat_minor": 5
}
