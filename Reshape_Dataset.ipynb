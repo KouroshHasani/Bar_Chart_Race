{
 "cells": [
  {
   "cell_type": "code",
   "execution_count": 34,
   "id": "40064f5f-c2ac-4ac6-8974-58af942db158",
   "metadata": {},
   "outputs": [],
   "source": [
    "from src import DATA_DIR\n",
    "import pandas as pd\n",
    "import datetime\n",
    "from dateutil.relativedelta import relativedelta\n",
    "from datetime import date"
   ]
  },
  {
   "cell_type": "code",
   "execution_count": 69,
   "id": "fc2fee59-e629-421e-820f-b8cdf87406f2",
   "metadata": {},
   "outputs": [],
   "source": [
    "def Reshape_Dataset(data_path, output_dir_path, mode=1):\n",
    "    mode = 1\n",
    "\n",
    "    df = pd.read_csv(data_path)\n",
    "    df = df.astype({'Date': 'datetime64[ns]'})\n",
    "\n",
    "    if mode == 1:\n",
    "        df['Score HomeTeam'] = 0\n",
    "        df['Score AwayTeam'] = 0\n",
    "\n",
    "        df.loc[df.FTHG > df.FTAG, 'Score HomeTeam'] = 3\n",
    "        df.loc[df.FTHG < df.FTAG, 'Score AwayTeam'] = 3\n",
    "        df.loc[df.FTHG == df.FTAG, ['Score HomeTeam', 'Score AwayTeam']] = 1    \n",
    "\n",
    "        list_ = []\n",
    "        for i in range(len(df)):\n",
    "            if df.iloc[i, 5] > 0:\n",
    "                list_.append((df.iloc[i, 0], df.iloc[i, 1], df.iloc[i, 5]))\n",
    "\n",
    "            if df.iloc[i, 6] > 0:\n",
    "                list_.append((df.iloc[i, 0], df.iloc[i, 2], df.iloc[i, 6]))\n",
    "\n",
    "        df = pd.DataFrame(list_, columns=['Date', 'Team', 'Score'])\n",
    "\n",
    "\n",
    "    final_df = df.pivot(index='Date', columns='Team', values='Score')\n",
    "    final_df = final_df.fillna(0)\n",
    "\n",
    "    # for j, col in enumerate(final_df.columns):\n",
    "    #     final_df.iloc[0, j] += int(df_Start_Score.loc[df_Start_Score.Team == col, 'Pt.'])\n",
    "\n",
    "    for i in range(1, len(final_df)):\n",
    "        final_df.iloc[i, :] += final_df.iloc[i - 1, :]\n",
    "\n",
    "\n",
    "    dates = set([(date.year, date.month) for date in final_df.index])\n",
    "    dates.add(((max(final_df.index) + relativedelta(months=1)).year, (max(final_df.index) + relativedelta(months=1)).month))\n",
    "    dates = sorted(set(dates))\n",
    "\n",
    "    df_ = []\n",
    "    for i in range(len(dates)-1):\n",
    "        df = final_df.loc[(final_df.index < datetime.datetime(dates[i+1][0], dates[i+1][1], 1, 0, 0)) &\n",
    "                          (final_df.index >= datetime.datetime(dates[i][0], dates[i][1], 1, 0, 0))]\n",
    "\n",
    "        # df['Date'] = datetime.datetime(dates[i+1][0], dates[i+1][1], 1, 0, 0)\n",
    "\n",
    "        if not len(df):\n",
    "            continue\n",
    "\n",
    "        if not len(df_):\n",
    "            df_ = df.loc[df.index == max(df.index)]\n",
    "\n",
    "        else:\n",
    "            df_ = pd.concat([df_, df.loc[df.index == max(df.index)]])\n",
    "\n",
    "\n",
    "    df_['Date'] = None\n",
    "\n",
    "    for i in range(len(df_)):\n",
    "        df_.iloc[i, len(df_.columns)-1] = datetime.datetime(df_.index[i].year, df_.index[i].month, 1, 0, 0) + relativedelta(months=1)\n",
    "\n",
    "    df_ = df_.set_index('Date')\n",
    "    df_.to_csv(output_dir_path)"
   ]
  },
  {
   "cell_type": "markdown",
   "id": "fca172e3-678c-4e6c-9728-79a7dfbf6a54",
   "metadata": {},
   "source": [
    "Your dataset can have one of the following formats:\n",
    "\n",
    "* mode = 1\n",
    "|    | Date      | HomeTeam    | AwayTeam   |   FTHG |   FTAG |\n",
    "|---:|:----------|:------------|:-----------|-------:|-------:|\n",
    "|  0 | 8/14/1993 | Arsenal     | Coventry   |      0 |      3 |\n",
    "|  1 | 8/14/1993 | Aston Villa | QPR        |      4 |      1 |\n",
    "|  2 | 8/14/1993 | Chelsea     | Blackburn  |      1 |      2 |\n",
    "\n",
    "\n",
    "* mode = 2\n",
    "|    | Date      | Team        |   Score |\n",
    "|---:|:----------|:------------|--------:|\n",
    "|  0 | 8/14/1993 | Arsenal     |       0 |\n",
    "|  1 | 8/14/1993 | Aston Villa |       3 |\n",
    "|  2 | 8/14/1993 | Chelsea     |       1 |"
   ]
  },
  {
   "cell_type": "code",
   "execution_count": 71,
   "id": "99d86857-6779-4a17-9c64-2dfda41055a3",
   "metadata": {},
   "outputs": [],
   "source": [
    "Reshape_Dataset(\n",
    "    data_path = DATA_DIR / 'data/00_Sample_Format/Sample_One.csv',\n",
    "    output_dir_path = DATA_DIR / 'data/02_Reshaped_Data/Dataset.csv',\n",
    "    mode=1)"
   ]
  },
  {
   "cell_type": "code",
   "execution_count": null,
   "id": "94a92ff9-b9b0-42a4-949e-7ff05225356d",
   "metadata": {},
   "outputs": [],
   "source": []
  }
 ],
 "metadata": {
  "kernelspec": {
   "display_name": "Python 3 (ipykernel)",
   "language": "python",
   "name": "python3"
  },
  "language_info": {
   "codemirror_mode": {
    "name": "ipython",
    "version": 3
   },
   "file_extension": ".py",
   "mimetype": "text/x-python",
   "name": "python",
   "nbconvert_exporter": "python",
   "pygments_lexer": "ipython3",
   "version": "3.8.13"
  }
 },
 "nbformat": 4,
 "nbformat_minor": 5
}
