{
 "cells": [
  {
   "cell_type": "code",
   "execution_count": 160,
   "id": "40064f5f-c2ac-4ac6-8974-58af942db158",
   "metadata": {},
   "outputs": [],
   "source": [
    "from src.data import DATA_DIR\n",
    "import pandas as pd"
   ]
  },
  {
   "cell_type": "code",
   "execution_count": 161,
   "id": "fc2fee59-e629-421e-820f-b8cdf87406f2",
   "metadata": {},
   "outputs": [
    {
     "data": {
      "text/html": [
       "<div>\n",
       "<style scoped>\n",
       "    .dataframe tbody tr th:only-of-type {\n",
       "        vertical-align: middle;\n",
       "    }\n",
       "\n",
       "    .dataframe tbody tr th {\n",
       "        vertical-align: top;\n",
       "    }\n",
       "\n",
       "    .dataframe thead th {\n",
       "        text-align: right;\n",
       "    }\n",
       "</style>\n",
       "<table border=\"1\" class=\"dataframe\">\n",
       "  <thead>\n",
       "    <tr style=\"text-align: right;\">\n",
       "      <th></th>\n",
       "      <th>Div</th>\n",
       "      <th>Date</th>\n",
       "      <th>HomeTeam</th>\n",
       "      <th>AwayTeam</th>\n",
       "      <th>FTHG</th>\n",
       "      <th>FTAG</th>\n",
       "      <th>FTR</th>\n",
       "      <th>Score HomeTeam</th>\n",
       "      <th>Score AwayTeam</th>\n",
       "    </tr>\n",
       "  </thead>\n",
       "  <tbody>\n",
       "    <tr>\n",
       "      <th>0</th>\n",
       "      <td>SP1</td>\n",
       "      <td>1993-09-05</td>\n",
       "      <td>Ath Bilbao</td>\n",
       "      <td>Albacete</td>\n",
       "      <td>4</td>\n",
       "      <td>1</td>\n",
       "      <td>H</td>\n",
       "      <td>3</td>\n",
       "      <td>0</td>\n",
       "    </tr>\n",
       "    <tr>\n",
       "      <th>1</th>\n",
       "      <td>SP1</td>\n",
       "      <td>1993-09-05</td>\n",
       "      <td>Ath Madrid</td>\n",
       "      <td>Logrones</td>\n",
       "      <td>1</td>\n",
       "      <td>0</td>\n",
       "      <td>H</td>\n",
       "      <td>3</td>\n",
       "      <td>0</td>\n",
       "    </tr>\n",
       "    <tr>\n",
       "      <th>2</th>\n",
       "      <td>SP1</td>\n",
       "      <td>1993-09-05</td>\n",
       "      <td>Barcelona</td>\n",
       "      <td>Sociedad</td>\n",
       "      <td>3</td>\n",
       "      <td>0</td>\n",
       "      <td>H</td>\n",
       "      <td>3</td>\n",
       "      <td>0</td>\n",
       "    </tr>\n",
       "    <tr>\n",
       "      <th>3</th>\n",
       "      <td>SP1</td>\n",
       "      <td>1993-09-05</td>\n",
       "      <td>La Coruna</td>\n",
       "      <td>Celta</td>\n",
       "      <td>0</td>\n",
       "      <td>0</td>\n",
       "      <td>D</td>\n",
       "      <td>1</td>\n",
       "      <td>1</td>\n",
       "    </tr>\n",
       "    <tr>\n",
       "      <th>4</th>\n",
       "      <td>SP1</td>\n",
       "      <td>1993-09-05</td>\n",
       "      <td>Osasuna</td>\n",
       "      <td>Real Madrid</td>\n",
       "      <td>1</td>\n",
       "      <td>4</td>\n",
       "      <td>A</td>\n",
       "      <td>0</td>\n",
       "      <td>3</td>\n",
       "    </tr>\n",
       "  </tbody>\n",
       "</table>\n",
       "</div>"
      ],
      "text/plain": [
       "   Div       Date    HomeTeam     AwayTeam  FTHG  FTAG FTR  Score HomeTeam  \\\n",
       "0  SP1 1993-09-05  Ath Bilbao     Albacete     4     1   H               3   \n",
       "1  SP1 1993-09-05  Ath Madrid     Logrones     1     0   H               3   \n",
       "2  SP1 1993-09-05   Barcelona     Sociedad     3     0   H               3   \n",
       "3  SP1 1993-09-05   La Coruna        Celta     0     0   D               1   \n",
       "4  SP1 1993-09-05     Osasuna  Real Madrid     1     4   A               0   \n",
       "\n",
       "   Score AwayTeam  \n",
       "0               0  \n",
       "1               0  \n",
       "2               0  \n",
       "3               1  \n",
       "4               3  "
      ]
     },
     "execution_count": 161,
     "metadata": {},
     "output_type": "execute_result"
    }
   ],
   "source": [
    "df = pd.read_excel(DATA_DIR / 'SP1.xlsx')\n",
    "\n",
    "df['Score HomeTeam'] = 0\n",
    "df['Score AwayTeam'] = 0\n",
    "\n",
    "df.loc[df.FTHG > df.FTAG, 'Score HomeTeam'] = 3\n",
    "df.loc[df.FTHG < df.FTAG, 'Score AwayTeam'] = 3\n",
    "df.loc[df.FTHG == df.FTAG, ['Score HomeTeam', 'Score AwayTeam']] = 1\n",
    "\n",
    "df.head()"
   ]
  },
  {
   "cell_type": "code",
   "execution_count": 162,
   "id": "e4b09b89-626a-443c-b196-6ae9a03e2045",
   "metadata": {},
   "outputs": [],
   "source": [
    "list_ = []\n",
    "\n",
    "for i in range(len(df)):\n",
    "    if df.iloc[i, 7] > 0:\n",
    "        list_.append((df.iloc[i, 1], df.iloc[i, 2], df.iloc[i, 7]))\n",
    "    \n",
    "    if df.iloc[i, 8] > 0:\n",
    "        list_.append((df.iloc[i, 1], df.iloc[i, 3], df.iloc[i, 8]))"
   ]
  },
  {
   "cell_type": "code",
   "execution_count": 163,
   "id": "d7827c6a-38ed-4e45-9162-27272a5dd36d",
   "metadata": {},
   "outputs": [],
   "source": [
    "final_df = pd.DataFrame(list_, columns=['Date', 'Team', 'Score']).pivot(index='Date', columns='Team', values='Score')"
   ]
  },
  {
   "cell_type": "code",
   "execution_count": 164,
   "id": "afce4278-701f-4ca0-ab9f-911786771e4a",
   "metadata": {},
   "outputs": [],
   "source": [
    "final_df = final_df.fillna(0)\n",
    "\n",
    "for i in range(1, len(final_df)):\n",
    "    final_df.iloc[i, :] += final_df.iloc[i - 1, :]"
   ]
  },
  {
   "cell_type": "code",
   "execution_count": 165,
   "id": "753c6cdf-fd15-41e9-b3f8-926965f46c40",
   "metadata": {
    "tags": []
   },
   "outputs": [],
   "source": [
    "dates = set([(date.year, date.month) for date in final_df.index])\n",
    "dates = sorted(set(dates))\n",
    "\n",
    "df_ = []\n",
    "for i in range(len(dates)-1):\n",
    "    df = final_df.loc[(final_df.index < datetime.datetime(dates[i+1][0], dates[i+1][1], 1, 0, 0)) &\n",
    "                      (final_df.index >= datetime.datetime(dates[i][0], dates[i][1], 1, 0, 0))]\n",
    "    \n",
    "    # df['Date'] = datetime.datetime(dates[i+1][0], dates[i+1][1], 1, 0, 0)\n",
    "    \n",
    "    if not len(df):\n",
    "        continue\n",
    "    \n",
    "    if not len(df_):\n",
    "        df_ = df.loc[df.index == max(df.index)]\n",
    "        \n",
    "    else:\n",
    "        df_ = pd.concat([df_, df.loc[df.index == max(df.index)]])"
   ]
  },
  {
   "cell_type": "code",
   "execution_count": 166,
   "id": "6065327d-b566-49af-85b3-3c93fc89e7fb",
   "metadata": {},
   "outputs": [],
   "source": [
    "from dateutil.relativedelta import relativedelta\n",
    "\n",
    "df_['Date'] = None\n",
    "\n",
    "for i in range(len(df_)):\n",
    "    df_.iloc[i, 49] = datetime.datetime(df_.index[i].year, df_.index[i].month, 1, 0, 0) + relativedelta(months=1)"
   ]
  },
  {
   "cell_type": "code",
   "execution_count": 167,
   "id": "5ceeac1a-aad9-4323-bc28-caaf7515ac3b",
   "metadata": {},
   "outputs": [],
   "source": [
    "df_ = df_.set_index('Date')"
   ]
  },
  {
   "cell_type": "code",
   "execution_count": 168,
   "id": "355e48be-d8b6-4473-bb86-61ab780b8630",
   "metadata": {},
   "outputs": [],
   "source": [
    "df_.to_csv(DATA_DIR / 'Final_dataset.csv')"
   ]
  },
  {
   "cell_type": "code",
   "execution_count": null,
   "id": "df17eb49-5a6f-4a1e-a7c1-620d2bd9f982",
   "metadata": {},
   "outputs": [],
   "source": []
  },
  {
   "cell_type": "code",
   "execution_count": null,
   "id": "67bd14de-4df8-4869-9116-361cbfd0a942",
   "metadata": {},
   "outputs": [],
   "source": []
  }
 ],
 "metadata": {
  "kernelspec": {
   "display_name": "Python 3 (ipykernel)",
   "language": "python",
   "name": "python3"
  },
  "language_info": {
   "codemirror_mode": {
    "name": "ipython",
    "version": 3
   },
   "file_extension": ".py",
   "mimetype": "text/x-python",
   "name": "python",
   "nbconvert_exporter": "python",
   "pygments_lexer": "ipython3",
   "version": "3.8.13"
  }
 },
 "nbformat": 4,
 "nbformat_minor": 5
}
